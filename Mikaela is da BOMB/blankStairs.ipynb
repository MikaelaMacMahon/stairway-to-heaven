{
 "cells": [
  {
   "cell_type": "markdown",
   "metadata": {},
   "source": [
    "# BME 252 Accelerometer Project"
   ]
  },
  {
   "cell_type": "markdown",
   "metadata": {},
   "source": [
    "Read in sensor values:"
   ]
  },
  {
   "cell_type": "code",
   "execution_count": 47,
   "metadata": {
    "collapsed": false
   },
   "outputs": [],
   "source": [
    "import numpy as np\n",
    "import matplotlib.pyplot as plt\n",
    "#read in data\n",
    "data = np.loadtxt('mikaela_1.csv', delimiter=',', skiprows = 1)\n",
    "personStr = 'Mikaela'\n",
    "aTime = data[:,0]\n",
    "aX = data[:, 1]\n",
    "aY = data[:, 2]\n",
    "aZ = data[:, 3]\n",
    "gTime = data[:, 4]\n",
    "gX = data[:,5]\n",
    "gY = data[:, 6]\n",
    "gZ = data[:, 7]"
   ]
  },
  {
   "cell_type": "markdown",
   "metadata": {
    "collapsed": true
   },
   "source": [
    "Plot acceleration values:"
   ]
  },
  {
   "cell_type": "code",
   "execution_count": 48,
   "metadata": {
    "collapsed": false
   },
   "outputs": [
    {
     "ename": "NameError",
     "evalue": "name 'plot' is not defined",
     "output_type": "error",
     "traceback": [
      "\u001b[0;31m---------------------------------------------------------------------------\u001b[0m",
      "\u001b[0;31mNameError\u001b[0m                                 Traceback (most recent call last)",
      "\u001b[0;32m<ipython-input-48-ea3055b0379e>\u001b[0m in \u001b[0;36m<module>\u001b[0;34m()\u001b[0m\n\u001b[1;32m      2\u001b[0m \u001b[0maTime\u001b[0m \u001b[1;33m=\u001b[0m \u001b[0maTime\u001b[0m \u001b[1;33m-\u001b[0m \u001b[0maTime\u001b[0m\u001b[1;33m[\u001b[0m\u001b[1;36m0\u001b[0m\u001b[1;33m]\u001b[0m\u001b[1;33m\u001b[0m\u001b[0m\n\u001b[1;32m      3\u001b[0m \u001b[0mplt\u001b[0m\u001b[1;33m.\u001b[0m\u001b[0msubplot\u001b[0m\u001b[1;33m(\u001b[0m\u001b[1;36m3\u001b[0m\u001b[1;33m,\u001b[0m\u001b[1;36m1\u001b[0m\u001b[1;33m,\u001b[0m\u001b[1;36m1\u001b[0m\u001b[1;33m)\u001b[0m\u001b[1;33m\u001b[0m\u001b[0m\n\u001b[0;32m----> 4\u001b[0;31m \u001b[0mplot\u001b[0m\u001b[1;33m.\u001b[0m\u001b[0mtitle\u001b[0m\u001b[1;33m(\u001b[0m\u001b[0mpersonStr\u001b[0m \u001b[1;33m+\u001b[0m \u001b[1;34m' Acceleration in the X Axis'\u001b[0m\u001b[1;33m)\u001b[0m\u001b[1;33m\u001b[0m\u001b[0m\n\u001b[0m\u001b[1;32m      5\u001b[0m \u001b[0mplt\u001b[0m\u001b[1;33m.\u001b[0m\u001b[0mplot\u001b[0m\u001b[1;33m(\u001b[0m\u001b[0maTime\u001b[0m\u001b[1;33m,\u001b[0m\u001b[0maX\u001b[0m\u001b[1;33m)\u001b[0m\u001b[1;33m\u001b[0m\u001b[0m\n\u001b[1;32m      6\u001b[0m \u001b[0mplt\u001b[0m\u001b[1;33m.\u001b[0m\u001b[0mxlim\u001b[0m\u001b[1;33m(\u001b[0m\u001b[1;36m0\u001b[0m\u001b[1;33m,\u001b[0m\u001b[1;36m60\u001b[0m\u001b[1;33m)\u001b[0m\u001b[1;33m\u001b[0m\u001b[0m\n",
      "\u001b[0;31mNameError\u001b[0m: name 'plot' is not defined"
     ]
    }
   ],
   "source": [
    "plt.figure(figsize = (30,30))\n",
    "aTime = aTime - aTime[0]\n",
    "plt.subplot(3,1,1)\n",
    "plot.title(personStr + ' Acceleration in the X Axis')\n",
    "plt.plot(aTime,aX)\n",
    "plt.xlim(0,60)\n",
    "plt.subplot(3,1,2)\n",
    "plt.plot(aTime, aY)\n",
    "plot.title(personStr + ' Acceleration in the Y Axis')\n",
    "plt.xlim(0,60)\n",
    "plt.subplot(3,1,3)\n",
    "plt.plot(aTime, aZ)\n",
    "plt.xlim(0,60)\n",
    "plot.title(personStr + ' Acceleration in the Z Axis')\n",
    "plt.show()\n",
    "#plt.subplot(3,1,2)\n",
    "#plt.plot(aTime, aY)\n",
    "#plt.subplot(3,1,3)\n",
    "#plt.plot(aTime, aZ)\n",
    "\n",
    "\n"
   ]
  },
  {
   "cell_type": "code",
   "execution_count": null,
   "metadata": {
    "collapsed": true
   },
   "outputs": [],
   "source": []
  }
 ],
 "metadata": {
  "kernelspec": {
   "display_name": "Python 3",
   "language": "python",
   "name": "python3"
  },
  "language_info": {
   "codemirror_mode": {
    "name": "ipython",
    "version": 3
   },
   "file_extension": ".py",
   "mimetype": "text/x-python",
   "name": "python",
   "nbconvert_exporter": "python",
   "pygments_lexer": "ipython3",
   "version": "3.6.0"
  }
 },
 "nbformat": 4,
 "nbformat_minor": 2
}
